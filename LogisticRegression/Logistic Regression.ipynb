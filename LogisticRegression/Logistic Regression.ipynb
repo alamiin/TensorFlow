{
 "cells": [
  {
   "cell_type": "code",
   "execution_count": 1,
   "metadata": {},
   "outputs": [],
   "source": [
    "import numpy as np\n",
    "import tensorflow as tf"
   ]
  },
  {
   "cell_type": "code",
   "execution_count": 2,
   "metadata": {},
   "outputs": [],
   "source": [
    "learning_rate = 0.000001\n",
    "training_epochs = 2000\n",
    "n_input = 3 \n",
    "n_classes = 2"
   ]
  },
  {
   "cell_type": "code",
   "execution_count": 3,
   "metadata": {},
   "outputs": [],
   "source": [
    "X = tf.placeholder(tf.float32, [None,n_input])\n",
    "Y = tf.placeholder(tf.float32, [None,n_classes])"
   ]
  },
  {
   "cell_type": "code",
   "execution_count": 4,
   "metadata": {},
   "outputs": [],
   "source": [
    "x = [[181, 80, 44], [181, 80, 44], [177, 70, 43], [160, 60, 38], [154, 54, 37], [166, 65, 40],\n",
    "     [190, 90, 47], [175, 64, 39], [177, 70, 40], [159, 55, 37], [171, 75, 42], [181, 85, 43]]\n",
    "y = [[1,0],[1,0], [1,0], [0,1], [0,1], [1,0], [1,0], [0,1], [0,1], [0,1], [1,0], [1,0]]"
   ]
  },
  {
   "cell_type": "code",
   "execution_count": 5,
   "metadata": {},
   "outputs": [],
   "source": [
    "w = tf.Variable(tf.zeros([n_input,n_classes]))\n",
    "b = tf.Variable(tf.zeros([n_classes]))"
   ]
  },
  {
   "cell_type": "code",
   "execution_count": 6,
   "metadata": {},
   "outputs": [
    {
     "name": "stdout",
     "output_type": "stream",
     "text": [
      "    Data      output   predicted output\n",
      "[181, 80, 44]    0         0\n",
      "[181, 80, 44]    0         0\n",
      "[177, 70, 43]    0         0\n",
      "[160, 60, 38]    1         1\n",
      "[154, 54, 37]    1         1\n",
      "[166, 65, 40]    0         0\n",
      "[190, 90, 47]    0         0\n",
      "[175, 64, 39]    1         1\n",
      "[177, 70, 40]    1         0\n",
      "[159, 55, 37]    1         1\n",
      "[171, 75, 42]    0         0\n",
      "[181, 85, 43]    0         0\n",
      "('Accuracy ', 0.9166666666666666)\n"
     ]
    }
   ],
   "source": [
    "logits = tf.matmul(X,w) + b\n",
    "pred = tf.nn.softmax(logits)\n",
    "entropy = tf.nn.softmax_cross_entropy_with_logits(logits = logits, labels = Y)\n",
    "loss = tf.reduce_mean(entropy)\n",
    "optimizer = tf.train.GradientDescentOptimizer(learning_rate = learning_rate ).minimize(loss)\n",
    "init = tf.global_variables_initializer()\n",
    "with tf.Session() as sess:\n",
    "    sess.run(init)\n",
    "    for epoch in range(training_epochs):\n",
    "        total_batch = 12\n",
    "        X_batches = np.array_split(x, total_batch)\n",
    "        Y_batches = np.array_split(y, total_batch)\n",
    "        for i in range(total_batch):\n",
    "            batch_x, batch_y = X_batches[i], Y_batches[i]\n",
    "            sess.run([optimizer, loss], feed_dict={X: batch_x, Y: batch_y})\n",
    "            \n",
    "    \n",
    "    \n",
    "    print(\"    Data      output   predicted output\")\n",
    "    total_correct_preds = 0\n",
    "    for i in range(total_batch):\n",
    "        batch_x, batch_y = X_batches[i], Y_batches[i]\n",
    "        _, loss_batch, logits_batch = sess.run([optimizer, loss, logits], feed_dict={X: batch_x, Y: batch_y})\n",
    "        preds = tf.nn.softmax(logits_batch)\n",
    "        print(str(x[i])+\"    \"+str(y[i][1])+\"         \"+ str(sess.run(tf.argmax(preds, 1))[0]))\n",
    "        correct_preds = tf.equal(tf.argmax(preds, 1), tf.argmax(batch_y,1))\n",
    "        accuracy = tf.reduce_sum(tf.cast(correct_preds, tf.float32))\n",
    "        total_correct_preds += sess.run(accuracy)\n",
    "    print ( \"Accuracy \", (total_correct_preds/12))    \n",
    "    "
   ]
  },
  {
   "cell_type": "code",
   "execution_count": null,
   "metadata": {},
   "outputs": [],
   "source": []
  }
 ],
 "metadata": {
  "kernelspec": {
   "display_name": "Python 2",
   "language": "python",
   "name": "python2"
  },
  "language_info": {
   "codemirror_mode": {
    "name": "ipython",
    "version": 2
   },
   "file_extension": ".py",
   "mimetype": "text/x-python",
   "name": "python",
   "nbconvert_exporter": "python",
   "pygments_lexer": "ipython2",
   "version": "2.7.12"
  }
 },
 "nbformat": 4,
 "nbformat_minor": 2
}
