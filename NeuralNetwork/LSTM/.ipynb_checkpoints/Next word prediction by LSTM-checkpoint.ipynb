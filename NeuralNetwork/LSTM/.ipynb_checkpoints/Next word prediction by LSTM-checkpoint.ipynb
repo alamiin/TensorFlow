{
 "cells": [
  {
   "cell_type": "code",
   "execution_count": 1,
   "metadata": {},
   "outputs": [],
   "source": [
    "from __future__ import print_function\n",
    "import nltk\n",
    "from nltk import word_tokenize\n",
    "import numpy as np\n",
    "import tensorflow as tf\n",
    "from tensorflow.contrib import rnn\n",
    "import os\n",
    "os.environ['TF_CPP_MIN_LOG_LEVEL']='2'\n",
    "import matplotlib.pyplot as plt\n",
    "import matplotlib.patches as mpatches\n",
    "%matplotlib inline"
   ]
  },
  {
   "cell_type": "code",
   "execution_count": 2,
   "metadata": {},
   "outputs": [],
   "source": [
    "def build_dataset(text):\n",
    "    text = open(text,'rU').read()\n",
    "    text = word_tokenize(text)\n",
    "    content = np.array(text)\n",
    "    content = np.reshape(content, [-1, ])\n",
    "    count = nltk.FreqDist(content).most_common()\n",
    "    dictionary = dict()\n",
    "    reverse_dictionary = dict()\n",
    "    for word, _ in count:\n",
    "        dictionary[word] = len(dictionary)\n",
    "        reverse_dictionary[len(dictionary)-1] = word\n",
    "    return content,len(dictionary), dictionary, reverse_dictionary, count\n",
    "content, vocab_size, dictionary, reverse_dictionary, count = build_dataset('data.txt')\n",
    "a = [dictionary[i] for i in content]"
   ]
  },
  {
   "cell_type": "code",
   "execution_count": 3,
   "metadata": {},
   "outputs": [],
   "source": [
    "learning_rate = 0.001\n",
    "training_iters = 500000\n",
    "display_step = 1000\n",
    "n_input = 3\n",
    "n_hidden = 512"
   ]
  },
  {
   "cell_type": "code",
   "execution_count": 4,
   "metadata": {},
   "outputs": [],
   "source": [
    "x = tf.placeholder(\"float\", [None, n_input, 1])\n",
    "y = tf.placeholder(\"float\", [None, vocab_size])"
   ]
  },
  {
   "cell_type": "code",
   "execution_count": 5,
   "metadata": {},
   "outputs": [],
   "source": [
    "weights = {\n",
    "    'out': tf.Variable(tf.random_normal([n_hidden, vocab_size]))\n",
    "}\n",
    "biases = {\n",
    "    'out': tf.Variable(tf.random_normal([vocab_size]))\n",
    "}"
   ]
  },
  {
   "cell_type": "code",
   "execution_count": 6,
   "metadata": {},
   "outputs": [],
   "source": [
    "\n",
    "def RNN(x, weights, biases):\n",
    "    x = tf.reshape(x, [-1, n_input])\n",
    "    x = tf.split(x,n_input,1)\n",
    "    rnn_cell = rnn.MultiRNNCell([rnn.BasicLSTMCell(n_hidden),rnn.BasicLSTMCell(n_hidden)])\n",
    "    outputs, states = rnn.static_rnn(rnn_cell, x, dtype=tf.float32)\n",
    "    return tf.matmul(outputs[-1], weights['out']) + biases['out']\n"
   ]
  },
  {
   "cell_type": "code",
   "execution_count": 7,
   "metadata": {},
   "outputs": [],
   "source": [
    "pred = RNN(x, weights, biases)\n",
    "cost = tf.reduce_mean(tf.nn.softmax_cross_entropy_with_logits(logits=pred, labels=y))\n",
    "optimizer = tf.train.RMSPropOptimizer(learning_rate=learning_rate).minimize(cost)\n",
    "correct_pred = tf.equal(tf.argmax(pred,1), tf.argmax(y,1))\n",
    "accuracy = tf.reduce_mean(tf.cast(correct_pred, tf.float32))\n",
    "init = tf.global_variables_initializer()\n"
   ]
  },
  {
   "cell_type": "code",
   "execution_count": null,
   "metadata": {},
   "outputs": [],
   "source": [
    "with tf.Session() as session:\n",
    "    session.run(init)\n",
    "    step = 0\n",
    "    offset = 0\n",
    "    end_offset = n_input + 1\n",
    "    acc_total = 0\n",
    "    loss_total = 0\n",
    "    counter = 1\n",
    "    acc_y = []\n",
    "    loss_y = []\n",
    "    \n",
    "    c = len(a)-end_offset\n",
    "    while step < training_iters:\n",
    "        # Generate a minibatch. Add some randomness on selection process.\n",
    "    \n",
    "        if offset > c:\n",
    "           \n",
    "            if counter < 3:\n",
    "                offset = counter\n",
    "                counter += 1\n",
    "            else:\n",
    "                counter = 0\n",
    "                offset = counter\n",
    "        \n",
    "        \n",
    "        symbols_in_keys = [ a[i] for i in range(offset, offset+n_input) ]\n",
    "        symbols_in_keys = np.reshape(np.array(symbols_in_keys), [-1, n_input, 1])\n",
    "        #print(symbols_in_keys)\n",
    "        symbols_out_onehot = np.zeros([vocab_size], dtype=float)\n",
    "        symbols_out_onehot[a[offset+n_input]] = 1.0\n",
    "        symbols_out_onehot = np.reshape(symbols_out_onehot,[1,-1])\n",
    "        #print(symbols_in_keys,symbols_out_onehot)\n",
    "        _, acc, loss, onehot_pred = session.run([optimizer, accuracy, cost, pred], \\\n",
    "                                                feed_dict={x: symbols_in_keys, y: symbols_out_onehot})\n",
    "        loss_total += loss\n",
    "        loss_y.append(loss)\n",
    "        acc_y.append(acc)\n",
    "        acc_total += acc\n",
    "        step += 1\n",
    "        offset += (n_input+1)\n",
    "    print(\"Optimization Finished!\")\n",
    "    prompt = \"%s words: \" % n_input\n",
    "    #sentence = input(prompt)\n",
    "    sentence = \"is a domestic\"\n",
    "    sentence = sentence.strip()\n",
    "    words = sentence.split(' ')\n",
    "    \n",
    "    try:\n",
    "        symbols_in_keys = [dictionary[i] for i in (words)]\n",
    "        for i in range(32):\n",
    "            keys = np.reshape(np.array(symbols_in_keys), [-1, n_input, 1])\n",
    "            onehot_pred = session.run(pred, feed_dict={x: keys})\n",
    "            onehot_pred_index = int(tf.argmax(onehot_pred, 1).eval())\n",
    "            sentence = \"%s %s\" % (sentence,reverse_dictionary[onehot_pred_index])\n",
    "            symbols_in_keys = symbols_in_keys[1:]\n",
    "            symbols_in_keys.append(onehot_pred_index)\n",
    "        print(sentence)\n",
    "    except:\n",
    "        print(\"Word not in dictionary\")\n",
    "\n",
    "    x = list(range(training_iters))\n",
    "\n",
    "    blue_patch = mpatches.Patch(color='blue', label='Train Data')\n",
    "    red_patch = mpatches.Patch(color='red', label='Test Data')\n",
    "\n",
    "    plt.figure(0, figsize=(10, 12))\n",
    "\n",
    "    plt.subplot(211)\n",
    "    plt.title(\"Accuracy\")\n",
    "    plt.legend(handles=[blue_patch])\n",
    "    plt.plot(x, acc_y, color='blue')\n",
    "    \n",
    "\n",
    "    plt.subplot(212)\n",
    "    plt.legend(handles=[blue_patch])\n",
    "    plt.title(\"Cross-Entropy Loss\")\n",
    "    plt.plot(x, loss_y, color='blue')\n",
    "    \n",
    "\n",
    "    plt.savefig(\"acc_loss.png\")\n",
    "\n",
    "    plt.show()   \n",
    "        \n",
    "        \n",
    "        "
   ]
  },
  {
   "cell_type": "code",
   "execution_count": null,
   "metadata": {},
   "outputs": [],
   "source": []
  },
  {
   "cell_type": "code",
   "execution_count": null,
   "metadata": {},
   "outputs": [],
   "source": []
  }
 ],
 "metadata": {
  "kernelspec": {
   "display_name": "Python 2",
   "language": "python",
   "name": "python2"
  },
  "language_info": {
   "codemirror_mode": {
    "name": "ipython",
    "version": 2
   },
   "file_extension": ".py",
   "mimetype": "text/x-python",
   "name": "python",
   "nbconvert_exporter": "python",
   "pygments_lexer": "ipython2",
   "version": "2.7.12"
  }
 },
 "nbformat": 4,
 "nbformat_minor": 2
}
