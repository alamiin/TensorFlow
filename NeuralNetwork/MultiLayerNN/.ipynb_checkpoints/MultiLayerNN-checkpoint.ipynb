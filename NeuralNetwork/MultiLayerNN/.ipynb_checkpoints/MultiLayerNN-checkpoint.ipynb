{
 "cells": [
  {
   "cell_type": "code",
   "execution_count": 1,
   "metadata": {},
   "outputs": [],
   "source": [
    "import tensorflow as tf\n",
    "import numpy as np"
   ]
  },
  {
   "cell_type": "code",
   "execution_count": 2,
   "metadata": {},
   "outputs": [],
   "source": [
    "xx = [[181, 80, 44], [181, 80, 44], [177, 70, 43], [160, 60, 38], [154, 54, 37], [166, 65, 40],\n",
    "     [190, 90, 47], [175, 64, 39], [177, 70, 40], [159, 55, 37], [171, 75, 42], [181, 85, 43]]\n",
    "yy = [[1,0],[1,0], [1,0], [0,1], [0,1], [1,0], [1,0], [0,1], [0,1], [0,1], [1,0], [1,0]]"
   ]
  },
  {
   "cell_type": "code",
   "execution_count": 3,
   "metadata": {},
   "outputs": [],
   "source": [
    "learning_rate = 0.00001\n",
    "training_epochs = 1000\n",
    "n_hidden_1 = 50 \n",
    "n_hidden_2 = 50 \n",
    "n_input = 3 \n",
    "n_classes = 2 "
   ]
  },
  {
   "cell_type": "code",
   "execution_count": 4,
   "metadata": {},
   "outputs": [],
   "source": [
    "x = tf.placeholder(\"float\", [None, n_input])\n",
    "y = tf.placeholder(\"float\", [None, n_classes])"
   ]
  },
  {
   "cell_type": "code",
   "execution_count": 5,
   "metadata": {},
   "outputs": [],
   "source": [
    "weights = {\n",
    "    'h1': tf.Variable(tf.random_normal([n_input, n_hidden_1])),\n",
    "    'h2': tf.Variable(tf.random_normal([n_hidden_1, n_hidden_2])),\n",
    "    'out': tf.Variable(tf.random_normal([n_hidden_2, n_classes]))\n",
    "}\n",
    "\n",
    "biases = {\n",
    "    'b1': tf.Variable(tf.random_normal([n_hidden_1])),\n",
    "    'b2': tf.Variable(tf.random_normal([n_hidden_2])),\n",
    "    'out': tf.Variable(tf.random_normal([n_classes]))\n",
    "}"
   ]
  },
  {
   "cell_type": "code",
   "execution_count": 6,
   "metadata": {},
   "outputs": [],
   "source": [
    "def multilayerNN(x, weights, biases):\n",
    "    layer_1 = tf.add(tf.matmul(x, weights['h1']), biases['b1'])\n",
    "    layer_1 = tf.nn.relu(layer_1)\n",
    "    layer_2 = tf.add(tf.matmul(layer_1, weights['h2']), biases['b2'])\n",
    "    layer_2 = tf.nn.relu(layer_2)\n",
    "    out_layer = tf.matmul(layer_2, weights['out']) + biases['out']\n",
    "    return out_layer"
   ]
  },
  {
   "cell_type": "code",
   "execution_count": 7,
   "metadata": {},
   "outputs": [],
   "source": [
    "pred = multilayerNN(x, weights, biases)\n",
    "cost = tf.reduce_mean(tf.nn.softmax_cross_entropy_with_logits(logits=pred, labels=y))\n",
    "optimizer = tf.train.GradientDescentOptimizer(learning_rate=learning_rate).minimize(cost)\n",
    "init = tf.global_variables_initializer()"
   ]
  },
  {
   "cell_type": "code",
   "execution_count": 8,
   "metadata": {
    "scrolled": true
   },
   "outputs": [
    {
     "name": "stdout",
     "output_type": "stream",
     "text": [
      "Optimization Finished!\n",
      "    Data      output   predicted output\n",
      "[181, 80, 44]    0         0\n",
      "[181, 80, 44]    0         0\n",
      "[177, 70, 43]    0         0\n",
      "[160, 60, 38]    1         1\n",
      "[154, 54, 37]    1         1\n",
      "[166, 65, 40]    0         0\n",
      "[190, 90, 47]    0         0\n",
      "[175, 64, 39]    1         1\n",
      "[177, 70, 40]    1         1\n",
      "[159, 55, 37]    1         1\n",
      "[171, 75, 42]    0         0\n",
      "[181, 85, 43]    0         0\n",
      "('Accuracy ', 1.0)\n"
     ]
    }
   ],
   "source": [
    "with tf.Session() as sess:\n",
    "    sess.run(init)\n",
    "    for epoch in range(training_epochs):\n",
    "        avg_cost = 0.\n",
    "        total_batch = 12\n",
    "        X_batches = np.array_split(xx, total_batch)\n",
    "        Y_batches = np.array_split(yy, total_batch)\n",
    "        for i in range(total_batch):\n",
    "            batch_x, batch_y = X_batches[i], Y_batches[i]\n",
    "            sess.run([optimizer, cost], feed_dict={x: batch_x,y: batch_y})\n",
    "                                                          \n",
    "           \n",
    "    print(\"Optimization Finished!\")\n",
    "    print(\"    Data      output   predicted output\")\n",
    "    total_correct_preds = 0\n",
    "    for i in range(total_batch):\n",
    "        batch_x, batch_y = X_batches[i], Y_batches[i]\n",
    "        _, loss_batch, logits_batch = sess.run([optimizer, cost, pred], feed_dict={x: batch_x, y: batch_y})\n",
    "        preds = tf.nn.softmax(logits_batch)\n",
    "        print(str(xx[i])+\"    \"+str(yy[i][1])+\"         \"+ str(sess.run(tf.argmax(preds, 1))[0]))\n",
    "        correct_preds = tf.equal(tf.argmax(preds, 1), tf.argmax(batch_y,1))\n",
    "        accuracy = tf.reduce_sum(tf.cast(correct_preds, tf.float32))\n",
    "        total_correct_preds += sess.run(accuracy)\n",
    "    print ( \"Accuracy \", (total_correct_preds/12))    \n",
    "    \n",
    "    \n",
    "    "
   ]
  },
  {
   "cell_type": "code",
   "execution_count": null,
   "metadata": {},
   "outputs": [],
   "source": []
  }
 ],
 "metadata": {
  "kernelspec": {
   "display_name": "Python 2",
   "language": "python",
   "name": "python2"
  },
  "language_info": {
   "codemirror_mode": {
    "name": "ipython",
    "version": 2
   },
   "file_extension": ".py",
   "mimetype": "text/x-python",
   "name": "python",
   "nbconvert_exporter": "python",
   "pygments_lexer": "ipython2",
   "version": "2.7.12"
  }
 },
 "nbformat": 4,
 "nbformat_minor": 1
}
